{
 "cells": [
  {
   "cell_type": "markdown",
   "source": [
    "# Assignment 3 - Computational Mathematics\n",
    "# Task 1: Iterative method for matrix inversion."
   ],
   "metadata": {
    "collapsed": false
   },
   "id": "17fab71ca6b1b930"
  },
  {
   "cell_type": "code",
   "outputs": [],
   "source": [
    "import numpy as np"
   ],
   "metadata": {
    "collapsed": false,
    "ExecuteTime": {
     "end_time": "2024-12-31T14:38:17.754780Z",
     "start_time": "2024-12-31T14:38:17.738476Z"
    }
   },
   "id": "5b48d7544f03f1c3",
   "execution_count": 29
  },
  {
   "cell_type": "code",
   "outputs": [],
   "source": [
    "# Step 1: Define the matrix\n",
    "A = np.array([[5, 2, 1], [2, 6, 3], [1, 3, 7]], dtype='float64')\n",
    "\n",
    "# Step 2: Define the initial approximation of B\n",
    "B = np.eye(A.shape[0]) / np.trace(A)\n",
    "\n",
    "# Set the accuracy\n",
    "eps = 1e-6\n"
   ],
   "metadata": {
    "collapsed": false,
    "ExecuteTime": {
     "end_time": "2024-12-31T14:38:18.585090Z",
     "start_time": "2024-12-31T14:38:18.580359Z"
    }
   },
   "id": "dea188630a55131d",
   "execution_count": 30
  },
  {
   "cell_type": "code",
   "execution_count": 31,
   "id": "initial_id",
   "metadata": {
    "collapsed": true,
    "ExecuteTime": {
     "end_time": "2024-12-31T14:38:19.348008Z",
     "start_time": "2024-12-31T14:38:19.343585Z"
    }
   },
   "outputs": [],
   "source": [
    "# Step 3: Iterative method to compute the inverse of matrix\n",
    "while True:\n",
    "    # Calculate B using iterative method\n",
    "    B_next = 2 * B - np.dot(B, np.dot(A, B))\n",
    "    # Check for convergence\n",
    "    if np.allclose(B, B_next, atol=eps):\n",
    "        B = B_next\n",
    "        break\n",
    "    B = B_next"
   ]
  },
  {
   "cell_type": "code",
   "outputs": [
    {
     "name": "stdout",
     "output_type": "stream",
     "text": [
      "The resulting inverse matrix B is:\n",
      "[[ 2.30769231e-01 -7.69230769e-02 -1.06490300e-11]\n",
      " [-7.69230769e-02  2.37762238e-01 -9.09090909e-02]\n",
      " [-1.06490319e-11 -9.09090909e-02  1.81818182e-01]]\n",
      "The numpy inverse function's result is:\n",
      "[[ 0.23076923 -0.07692308  0.        ]\n",
      " [-0.07692308  0.23776224 -0.09090909]\n",
      " [ 0.         -0.09090909  0.18181818]]\n",
      "Difference between the implementations:\n",
      "[[ 1.29652400e-11 -1.87996563e-11  1.06490300e-11]\n",
      " [-1.87996424e-11  2.72594725e-11 -1.54411345e-11]\n",
      " [ 1.06490319e-11 -1.54411206e-11  8.74661454e-12]]\n",
      "The resulting inverse matrix B is:\n",
      "[[ 2.30769231e-01 -7.69230769e-02 -1.06490300e-11]\n",
      " [-7.69230769e-02  2.37762238e-01 -9.09090909e-02]\n",
      " [-1.06490319e-11 -9.09090909e-02  1.81818182e-01]]\n",
      "The numpy inverse function's result is:\n",
      "[[ 0.23076923 -0.07692308  0.        ]\n",
      " [-0.07692308  0.23776224 -0.09090909]\n",
      " [ 0.         -0.09090909  0.18181818]]\n",
      "Difference between the implementations:\n",
      "[[ 1.29652400e-11 -1.87996563e-11  1.06490300e-11]\n",
      " [-1.87996424e-11  2.72594725e-11 -1.54411345e-11]\n",
      " [ 1.06490319e-11 -1.54411206e-11  8.74661454e-12]]\n"
     ]
    }
   ],
   "source": [
    "# Step 4: Print the resulting inverse matrix\n",
    "print(\"The resulting inverse matrix B is:\")\n",
    "print(B)\n",
    "\n",
    "# Step 5: Compare the result with numpy's \n",
    "result = np.linalg.inv(A)\n",
    "print(\"The numpy inverse function's result is:\")\n",
    "print(result)\n",
    "\n",
    "# Check the difference:\n",
    "print(\"Difference between the implementations:\")\n",
    "print(result - B)\n",
    "\n",
    "# Step 4: Print the resulting inverse matrix\n",
    "print(\"The resulting inverse matrix B is:\")\n",
    "print(B)\n",
    "\n",
    "# Step 5: Compare the result with numpy's \n",
    "result = np.linalg.inv(A)\n",
    "print(\"The numpy inverse function's result is:\")\n",
    "print(result)\n",
    "\n",
    "# Check the difference:\n",
    "print(\"Difference between the implementations:\")\n",
    "print(result - B)\n"
   ],
   "metadata": {
    "collapsed": false,
    "ExecuteTime": {
     "end_time": "2024-12-31T14:38:20.274016Z",
     "start_time": "2024-12-31T14:38:20.254765Z"
    }
   },
   "id": "46fa636a1af14554",
   "execution_count": 32
  },
  {
   "cell_type": "markdown",
   "source": [
    "# Task 2: LU factorization and solution of a system of linear equations."
   ],
   "metadata": {
    "collapsed": false
   },
   "id": "77a55f5373040488"
  },
  {
   "cell_type": "code",
   "outputs": [],
   "source": [
    "from scipy.linalg import lu  # Import LU decomposition from scipy\n",
    "\n",
    "# Given matrix A and vector b\n",
    "A = np.array([[10, -1, 2, 0], \n",
    "              [-1, 11, -1, 3], \n",
    "              [2, -1, 10, -1], \n",
    "              [0, 3, -1, 8]])\n",
    "\n",
    "b = np.array([5, 20, -10, 15])\n",
    "\n",
    "# LU factorization using SciPy\n",
    "P, L, U = lu(A)"
   ],
   "metadata": {
    "collapsed": false,
    "ExecuteTime": {
     "end_time": "2024-12-31T14:38:30.081801Z",
     "start_time": "2024-12-31T14:38:30.071400Z"
    }
   },
   "id": "9853c0bc593d4684",
   "execution_count": 33
  },
  {
   "cell_type": "code",
   "outputs": [
    {
     "name": "stdout",
     "output_type": "stream",
     "text": [
      "Matrix P (Permutation matrix):\n",
      "[[1. 0. 0. 0.]\n",
      " [0. 1. 0. 0.]\n",
      " [0. 0. 1. 0.]\n",
      " [0. 0. 0. 1.]]\n",
      "Matrix L (Lower triangular matrix):\n",
      "[[ 1.          0.          0.          0.        ]\n",
      " [-0.1         1.          0.          0.        ]\n",
      " [ 0.2        -0.0733945   1.          0.        ]\n",
      " [ 0.          0.27522936 -0.08173077  1.        ]]\n",
      "\n",
      "Matrix U (Upper triangular matrix):\n",
      "[[10.         -1.          2.          0.        ]\n",
      " [ 0.         10.9        -0.8         3.        ]\n",
      " [ 0.          0.          9.5412844  -0.77981651]\n",
      " [ 0.          0.          0.          7.11057692]]\n"
     ]
    }
   ],
   "source": [
    "# Print matrices L and U\n",
    "print(\"Matrix P (Permutation matrix):\")\n",
    "print(P)\n",
    "print(\"Matrix L (Lower triangular matrix):\")\n",
    "print(L)\n",
    "print(\"\\nMatrix U (Upper triangular matrix):\")\n",
    "print(U)\n"
   ],
   "metadata": {
    "collapsed": false,
    "ExecuteTime": {
     "end_time": "2024-12-31T14:38:31.111653Z",
     "start_time": "2024-12-31T14:38:31.108288Z"
    }
   },
   "id": "ab59eadbd53f705b",
   "execution_count": 34
  },
  {
   "cell_type": "code",
   "outputs": [],
   "source": [
    "# Solve the system using LU decomposition\n",
    "# Step 1: Solve L * y = b\n",
    "y = np.linalg.solve(L, b)\n",
    "\n",
    "# Step 2: Solve U * x = y\n",
    "x = np.linalg.solve(U, y)\n"
   ],
   "metadata": {
    "collapsed": false,
    "ExecuteTime": {
     "end_time": "2024-12-31T14:38:32.165879Z",
     "start_time": "2024-12-31T14:38:32.160695Z"
    }
   },
   "id": "a3188b8114feb77c",
   "execution_count": 35
  },
  {
   "cell_type": "code",
   "outputs": [
    {
     "name": "stdout",
     "output_type": "stream",
     "text": [
      "\n",
      "Solution vector x (using LU decomposition):\n",
      "[ 0.82758621  1.48275862 -0.89655172  1.20689655]\n"
     ]
    }
   ],
   "source": [
    "# Print the solution vector x\n",
    "print(\"\\nSolution vector x (using LU decomposition):\")\n",
    "print(x)"
   ],
   "metadata": {
    "collapsed": false,
    "ExecuteTime": {
     "end_time": "2024-12-31T14:38:33.025053Z",
     "start_time": "2024-12-31T14:38:33.020894Z"
    }
   },
   "id": "33b8cc508bcd91",
   "execution_count": 36
  },
  {
   "cell_type": "code",
   "outputs": [
    {
     "name": "stdout",
     "output_type": "stream",
     "text": [
      "\n",
      "Solution vector x (using numpy.linalg.solve):\n",
      "[ 0.82758621  1.48275862 -0.89655172  1.20689655]\n"
     ]
    }
   ],
   "source": [
    "# Compare the result with numpy's built-in solver\n",
    "x_np = np.linalg.solve(A, b)\n",
    "print(\"\\nSolution vector x (using numpy.linalg.solve):\")\n",
    "print(x_np)"
   ],
   "metadata": {
    "collapsed": false,
    "ExecuteTime": {
     "end_time": "2024-12-31T14:38:34.374184Z",
     "start_time": "2024-12-31T14:38:34.370839Z"
    }
   },
   "id": "93d573e6d15742f",
   "execution_count": 37
  },
  {
   "cell_type": "markdown",
   "source": [
    "# Task 3: Finding the Largest Eigenvalue and Vector Using Power Method."
   ],
   "metadata": {
    "collapsed": false
   },
   "id": "bf70afdcc33ea04d"
  },
  {
   "cell_type": "code",
   "outputs": [],
   "source": [
    "# Given matrix A\n",
    "A = np.array([[2, -1, 0], \n",
    "              [-1, 2, -1], \n",
    "              [0, -1, 2]])\n",
    "\n",
    "# Initial vector v0\n",
    "v0 = np.array([1, 0, 0], dtype=float)\n",
    "\n",
    "# Parameters for iteration\n",
    "tolerance = 1e-6  # Accuracy\n",
    "max_iterations = 100  # Maximum number of iterations"
   ],
   "metadata": {
    "collapsed": false,
    "ExecuteTime": {
     "end_time": "2024-12-31T14:38:37.345363Z",
     "start_time": "2024-12-31T14:38:37.338596Z"
    }
   },
   "id": "23719e64df79bf4",
   "execution_count": 38
  },
  {
   "cell_type": "code",
   "outputs": [],
   "source": [
    "# Power Iteration Method\n",
    "def power_method(A, v0, tolerance, max_iterations):\n",
    "    v = v0 / np.linalg.norm(v0)  # Normalize initial vector\n",
    "    for _ in range(max_iterations):\n",
    "        v_next = np.dot(A, v)  # Matrix-vector multiplication\n",
    "        v_next = v_next / np.linalg.norm(v_next)  # Normalize vector\n",
    "        \n",
    "        # Check for convergence\n",
    "        if np.linalg.norm(v_next - v) < tolerance:\n",
    "            break\n",
    "        v = v_next\n",
    "\n",
    "    # Approximate eigenvalue\n",
    "    eigenvalue = np.dot(v.T, np.dot(A, v))  # Rayleigh quotient\n",
    "    return eigenvalue, v"
   ],
   "metadata": {
    "collapsed": false,
    "ExecuteTime": {
     "end_time": "2024-12-31T14:38:38.596100Z",
     "start_time": "2024-12-31T14:38:38.591863Z"
    }
   },
   "id": "4b8ad16f9e27b7d9",
   "execution_count": 39
  },
  {
   "cell_type": "code",
   "outputs": [
    {
     "name": "stdout",
     "output_type": "stream",
     "text": [
      "Largest Eigenvalue (Power Method): 3.4142135623662\n",
      "Corresponding Eigenvector (Power Method): [ 0.50000156 -0.70710678  0.49999844]\n"
     ]
    }
   ],
   "source": [
    "# Apply the power method\n",
    "largest_eigenvalue, eigenvector = power_method(A, v0, tolerance, max_iterations)\n",
    "\n",
    "# Print the largest eigenvalue and corresponding eigenvector\n",
    "print(\"Largest Eigenvalue (Power Method):\", largest_eigenvalue)\n",
    "print(\"Corresponding Eigenvector (Power Method):\", eigenvector)"
   ],
   "metadata": {
    "collapsed": false,
    "ExecuteTime": {
     "end_time": "2024-12-31T14:38:40.082364Z",
     "start_time": "2024-12-31T14:38:40.065020Z"
    }
   },
   "id": "e91219ca752e9f5b",
   "execution_count": 40
  },
  {
   "cell_type": "code",
   "outputs": [
    {
     "name": "stdout",
     "output_type": "stream",
     "text": [
      "\n",
      "Largest Eigenvalue (numpy.linalg.eig): 3.4142135623730914\n",
      "Corresponding Eigenvector (numpy.linalg.eig): [-0.5         0.70710678 -0.5       ]\n"
     ]
    }
   ],
   "source": [
    "# Compare with numpy.linalg.eig\n",
    "eigenvalues, eigenvectors = np.linalg.eig(A)\n",
    "largest_eigenvalue_np = max(eigenvalues)\n",
    "largest_eigenvector_np = eigenvectors[:, np.argmax(eigenvalues)]\n",
    "\n",
    "print(\"\\nLargest Eigenvalue (numpy.linalg.eig):\", largest_eigenvalue_np)\n",
    "print(\"Corresponding Eigenvector (numpy.linalg.eig):\", largest_eigenvector_np)"
   ],
   "metadata": {
    "collapsed": false,
    "ExecuteTime": {
     "end_time": "2024-12-31T14:38:41.175418Z",
     "start_time": "2024-12-31T14:38:41.163028Z"
    }
   },
   "id": "a2245726fafff2ff",
   "execution_count": 41
  },
  {
   "cell_type": "markdown",
   "source": [
    "# Task 4: Comparison of Givens and Householder methods."
   ],
   "metadata": {
    "collapsed": false
   },
   "id": "bf7d0e8210af2135"
  },
  {
   "cell_type": "markdown",
   "source": [
    "# Givens Rotation Method\n"
   ],
   "metadata": {
    "collapsed": false
   },
   "id": "1e660f68a633701e"
  },
  {
   "cell_type": "code",
   "outputs": [
    {
     "name": "stdout",
     "output_type": "stream",
     "text": [
      "Givens' Method:\n",
      "Q matrix:\n",
      "[[ 0.87287156 -0.21398025 -0.38840075  0.203599  ]\n",
      " [ 0.21821789  0.77032889 -0.22505464 -0.55527   ]\n",
      " [ 0.43643578  0.04279605  0.88932881 -0.129563  ]\n",
      " [ 0.          0.59914469  0.08711792  0.79588699]]\n",
      "\n",
      "R matrix:\n",
      "[[4.58257569 1.96396101 4.14613991 0.87287156]\n",
      " [0.         3.33809184 1.15549333 3.98003258]\n",
      " [0.         0.         3.53190586 0.78769123]\n",
      " [0.         0.         0.         1.94344499]]\n"
     ]
    }
   ],
   "source": [
    "def givens_rotation(A):\n",
    "    m, n = A.shape\n",
    "    Q = np.eye(m)  # Initialize Q as identity\n",
    "    R = A.copy()   # Copy of A to avoid modifying it directly\n",
    "\n",
    "    for j in range(n):  # Column\n",
    "        for i in range(m - 1, j, -1):  # Row\n",
    "            # Compute Givens rotation matrix G\n",
    "            a, b = R[i - 1, j], R[i, j]\n",
    "            r = np.hypot(a, b)  # Compute the hypotenuse\n",
    "            c, s = a / r, -b / r\n",
    "            G = np.eye(m)\n",
    "            G[i - 1, i - 1] = c\n",
    "            G[i - 1, i] = -s\n",
    "            G[i, i - 1] = s\n",
    "            G[i, i] = c\n",
    "\n",
    "            # Apply G to R\n",
    "            R = G @ R\n",
    "            # Accumulate Q\n",
    "            Q = Q @ G.T\n",
    "\n",
    "    return Q, R\n",
    "\n",
    "# Define matrix A\n",
    "A = np.array([[4, 1, 2, 0],\n",
    "              [1, 3, 1, 2],\n",
    "              [2, 1, 5, 1],\n",
    "              [0, 2, 1, 4]])\n",
    "\n",
    "# Givens Rotation\n",
    "Q_givens, R_givens = givens_rotation(A)\n",
    "\n",
    "print(\"Givens' Method:\")\n",
    "print(\"Q matrix:\")\n",
    "print(Q_givens)\n",
    "print(\"\\nR matrix:\")\n",
    "print(R_givens)"
   ],
   "metadata": {
    "collapsed": false,
    "ExecuteTime": {
     "end_time": "2024-12-31T14:38:45.008978Z",
     "start_time": "2024-12-31T14:38:44.998245Z"
    }
   },
   "id": "75f5bc300e0c4155",
   "execution_count": 42
  },
  {
   "cell_type": "markdown",
   "source": [
    "# Householder Reflection Method"
   ],
   "metadata": {
    "collapsed": false
   },
   "id": "79b12ab98e584f4e"
  },
  {
   "cell_type": "code",
   "outputs": [
    {
     "name": "stdout",
     "output_type": "stream",
     "text": [
      "\n",
      "Householder's Method:\n",
      "Q matrix:\n",
      "[[-0.85507246  0.21843162  0.4131031  -0.22468765]\n",
      " [-0.23188406 -0.76571711  0.22695612  0.55533594]\n",
      " [-0.46376812 -0.01987474 -0.87513691  0.13659988]\n",
      " [ 0.         -0.60462379 -0.10941728 -0.78896003]]\n",
      "\n",
      "R matrix:\n",
      "[[-4.57971014e+00 -2.01449275e+00 -4.26086957e+00 -9.27536232e-01]\n",
      " [ 6.82598800e-02 -3.30784204e+00 -1.03285136e+00 -3.96980413e+00]\n",
      " [ 1.29094719e-01 -5.08938316e-17 -3.43193948e+00 -8.58893792e-01]\n",
      " [-7.02148893e-02 -1.32969857e-16  1.11022302e-16 -1.90856835e+00]]\n"
     ]
    }
   ],
   "source": [
    "def householder_reflection(A):\n",
    "    m, n = A.shape\n",
    "    Q = np.eye(m)  # Initialize Q as identity\n",
    "    R = A.copy()   # Copy of A to avoid modifying it directly\n",
    "\n",
    "    for j in range(n):  # Iterate over columns\n",
    "        # Compute the Householder vector\n",
    "        x = R[j:, j]\n",
    "        norm_x = np.linalg.norm(x)\n",
    "        v = x.copy()\n",
    "        v[0] += np.sign(x[0]) * norm_x\n",
    "        v = v / np.linalg.norm(v)\n",
    "\n",
    "        # Construct the Householder matrix H\n",
    "        H = np.eye(m)\n",
    "        H[j:, j:] -= 2 * np.outer(v, v)\n",
    "\n",
    "        # Apply H to R\n",
    "        R = H @ R\n",
    "        # Accumulate Q\n",
    "        Q = Q @ H\n",
    "\n",
    "    return Q, R\n",
    "\n",
    "# Householder Reflection\n",
    "Q_householder, R_householder = householder_reflection(A)\n",
    "\n",
    "print(\"\\nHouseholder's Method:\")\n",
    "print(\"Q matrix:\")\n",
    "print(Q_householder)\n",
    "print(\"\\nR matrix:\")\n",
    "print(R_householder)\n"
   ],
   "metadata": {
    "collapsed": false,
    "ExecuteTime": {
     "end_time": "2024-12-31T14:38:47.011605Z",
     "start_time": "2024-12-31T14:38:47.003549Z"
    }
   },
   "id": "c440d73be3449d34",
   "execution_count": 43
  },
  {
   "cell_type": "markdown",
   "source": [
    "# Task 5: Finding all eigenvalues using Jacobi's method."
   ],
   "metadata": {
    "collapsed": false
   },
   "id": "8b36ec8dcc64cffd"
  },
  {
   "cell_type": "code",
   "outputs": [],
   "source": [
    "def jacobi_method(A, tol=1e-6, max_iterations=100):\n",
    "    n = A.shape[0]\n",
    "    V = np.eye(n)  # Eigenvector matrix\n",
    "    for iteration in range(max_iterations):\n",
    "        max_val = 0\n",
    "        p, q = 0, 0\n",
    "        for i in range(n):\n",
    "            for j in range(i + 1, n):\n",
    "                if abs(A[i, j]) > abs(max_val):\n",
    "                    max_val = A[i, j]\n",
    "                    p, q = i, j    \n",
    "        # Check for convergence\n",
    "        if abs(max_val) < tol:\n",
    "            break    \n",
    "        # Compute the rotation angle\n",
    "        if A[p, p] == A[q, q]:\n",
    "            theta = np.pi / 4\n",
    "        else:\n",
    "            theta = 0.5 * np.arctan(2 * A[p, q] / (A[p, p] - A[q, q]))    \n",
    "        # Compute cosine and sine\n",
    "        c = np.cos(theta)\n",
    "        s = np.sin(theta)   \n",
    "        R = np.eye(n)\n",
    "        R[p, p], R[q, q] = c, c\n",
    "        R[p, q], R[q, p] = s, -s    \n",
    "        A = R.T @ A @ R\n",
    "        V = V @ R  # Update eigenvector matrix\n",
    "    eigenvalues = np.diag(A)\n",
    "    return eigenvalues, V"
   ],
   "metadata": {
    "collapsed": false,
    "ExecuteTime": {
     "end_time": "2024-12-31T14:38:49.192622Z",
     "start_time": "2024-12-31T14:38:49.186556Z"
    }
   },
   "id": "8d5f8590526e5155",
   "execution_count": 44
  },
  {
   "cell_type": "code",
   "outputs": [
    {
     "name": "stdout",
     "output_type": "stream",
     "text": [
      "Jacobi's Method Eigenvalues:\n",
      "[1.41291772 2.53642885 0.05065344]\n",
      "\n",
      "NumPy Eigenvalues:\n",
      "[-0.01664728  2.53652586  1.48012142]\n"
     ]
    }
   ],
   "source": [
    "# Define the matrix\n",
    "A = np.array([[1, 1, 0.5],\n",
    "              [1, 1, 0.25],\n",
    "              [0.5, 0.25, 2]])\n",
    "\n",
    "# Apply Jacobi's method\n",
    "eigenvalues_jacobi, eigenvectors_jacobi = jacobi_method(A)\n",
    "\n",
    "# Compare with numpy's built-in function\n",
    "eigenvalues_numpy = np.linalg.eigvals(A)\n",
    "\n",
    "# Print the results\n",
    "print(\"Jacobi's Method Eigenvalues:\")\n",
    "print(eigenvalues_jacobi)\n",
    "\n",
    "print(\"\\nNumPy Eigenvalues:\")\n",
    "print(eigenvalues_numpy)"
   ],
   "metadata": {
    "collapsed": false,
    "ExecuteTime": {
     "end_time": "2024-12-31T14:38:50.139116Z",
     "start_time": "2024-12-31T14:38:50.132309Z"
    }
   },
   "id": "5b4ddb588aaea778",
   "execution_count": 45
  },
  {
   "cell_type": "code",
   "outputs": [],
   "source": [],
   "metadata": {
    "collapsed": false
   },
   "id": "dcf96e35474c9551"
  }
 ],
 "metadata": {
  "kernelspec": {
   "display_name": "Python 3",
   "language": "python",
   "name": "python3"
  },
  "language_info": {
   "codemirror_mode": {
    "name": "ipython",
    "version": 2
   },
   "file_extension": ".py",
   "mimetype": "text/x-python",
   "name": "python",
   "nbconvert_exporter": "python",
   "pygments_lexer": "ipython2",
   "version": "2.7.6"
  }
 },
 "nbformat": 4,
 "nbformat_minor": 5
}
